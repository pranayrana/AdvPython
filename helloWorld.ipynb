{
 "cells": [
  {
   "cell_type": "code",
   "execution_count": 2,
   "id": "60ff1c2a",
   "metadata": {},
   "outputs": [
    {
     "name": "stdout",
     "output_type": "stream",
     "text": [
      "Hello test, welcome to the program!\n"
     ]
    }
   ],
   "source": [
    "#write a simple program to print the name of the user\n",
    "name = input(\"Enter your name: \")\n",
    "print(f\"Hello {name}, welcome to the program!\")"
   ]
  },
  {
   "cell_type": "code",
   "execution_count": null,
   "id": "4d18d8c9",
   "metadata": {},
   "outputs": [
    {
     "name": "stdout",
     "output_type": "stream",
     "text": [
      "The data type of 'data' is: <class 'int'>\n",
      "The value of 'data' is: 5\n"
     ]
    }
   ],
   "source": [
    "#data Type int,bool, float, string\n",
    "data = 5 \n",
    "#data type of data\n",
    "print(f\"The data type of 'data' is: {type(data)}\")\n",
    "#print data value\n",
    "print(f\"The value of 'data' is: {data}\")"
   ]
  },
  {
   "cell_type": "code",
   "execution_count": 5,
   "id": "712d0e64",
   "metadata": {},
   "outputs": [
    {
     "name": "stdout",
     "output_type": "stream",
     "text": [
      "The data type of 'complex_data' is: <class 'complex'>\n",
      "The real part of 'complex_data' is: 3.0\n",
      "The imaginary part of 'complex_data' is: 4.0\n"
     ]
    }
   ],
   "source": [
    "#complex data type initialization\n",
    "complex_data = 3 + 4j\n",
    "#data type of complex_data\n",
    "print(f\"The data type of 'complex_data' is: {type(complex_data)}\")\n",
    "# print real and imaginary parts\n",
    "print(f\"The real part of 'complex_data' is: {complex_data.real}\")\n",
    "print(f\"The imaginary part of 'complex_data' is: {complex_data.imag}\")\n"
   ]
  },
  {
   "cell_type": "code",
   "execution_count": 6,
   "id": "77eabd0b",
   "metadata": {},
   "outputs": [
    {
     "name": "stdout",
     "output_type": "stream",
     "text": [
      "Multiline String:\n",
      "This is a multiline string.\n",
      "It can span multiple lines.\n",
      "You can use it to write long text without worrying about line breaks.\n"
     ]
    }
   ],
   "source": [
    "#intialize mutltiline string\n",
    "multiline_string = \"\"\"This is a multiline string.\n",
    "It can span multiple lines.\n",
    "You can use it to write long text without worrying about line breaks.\"\"\"\n",
    "# print multiline string\n",
    "print(\"Multiline String:\")\n",
    "print(multiline_string)"
   ]
  },
  {
   "cell_type": "code",
   "execution_count": null,
   "id": "506d1ef1",
   "metadata": {},
   "outputs": [
    {
     "name": "stdout",
     "output_type": "stream",
     "text": [
      "Attributes and methods of the string 'pranay':\n",
      "['__add__', '__class__', '__contains__', '__delattr__', '__dir__', '__doc__', '__eq__', '__format__', '__ge__', '__getattribute__', '__getitem__', '__getnewargs__', '__getstate__', '__gt__', '__hash__', '__init__', '__init_subclass__', '__iter__', '__le__', '__len__', '__lt__', '__mod__', '__mul__', '__ne__', '__new__', '__reduce__', '__reduce_ex__', '__repr__', '__rmod__', '__rmul__', '__setattr__', '__sizeof__', '__str__', '__subclasshook__', 'capitalize', 'casefold', 'center', 'count', 'encode', 'endswith', 'expandtabs', 'find', 'format', 'format_map', 'index', 'isalnum', 'isalpha', 'isascii', 'isdecimal', 'isdigit', 'isidentifier', 'islower', 'isnumeric', 'isprintable', 'isspace', 'istitle', 'isupper', 'join', 'ljust', 'lower', 'lstrip', 'maketrans', 'partition', 'removeprefix', 'removesuffix', 'replace', 'rfind', 'rindex', 'rjust', 'rpartition', 'rsplit', 'rstrip', 'split', 'splitlines', 'startswith', 'strip', 'swapcase', 'title', 'translate', 'upper', 'zfill']\n",
      "The string 'pranay' with the first letter capitalized is: Pranay\n"
     ]
    }
   ],
   "source": [
    "#dir function to list attributes and methods of a string\n",
    "#donler methods of a string \n",
    "print(\"Attributes and methods of the string 'pranay':\")\n",
    "print(dir('pranay'))\n",
    "#change first letter of the string to capital letter and print \n",
    "print(f\"The string 'pranay' with the first letter capitalized is: {'pranay'.capitalize()}\")"
   ]
  },
  {
   "cell_type": "code",
   "execution_count": null,
   "id": "bf62c35d",
   "metadata": {},
   "outputs": [
    {
     "name": "stdout",
     "output_type": "stream",
     "text": [
      "Attributes and methods of the list: ['__add__', '__class__', '__class_getitem__', '__contains__', '__delattr__', '__delitem__', '__dir__', '__doc__', '__eq__', '__format__', '__ge__', '__getattribute__', '__getitem__', '__getstate__', '__gt__', '__hash__', '__iadd__', '__imul__', '__init__', '__init_subclass__', '__iter__', '__le__', '__len__', '__lt__', '__mul__', '__ne__', '__new__', '__reduce__', '__reduce_ex__', '__repr__', '__reversed__', '__rmul__', '__setattr__', '__setitem__', '__sizeof__', '__str__', '__subclasshook__', 'append', 'clear', 'copy', 'count', 'extend', 'index', 'insert', 'pop', 'remove', 'reverse', 'sort']\n",
      "List: [1, 2, 3, 4, 5, 'Pranay', 3.14, True]\n",
      "Updated List: [1, 2, 3, 4, 5, 'Pranay', 3.14, True, 6]\n",
      "List after popping the last element: [1, 2, 3, 4, 5, 'Pranay', 3.14, True]\n",
      "Set: {1, 2, 3, 4, 5}\n",
      "Dictionary: {'name': 'Alice', 'age': 30, 'city': 'New York'}\n"
     ]
    }
   ],
   "source": [
    "#Data Structures in Python\n",
    "#Mutable data structures\n",
    "#write exaple of list, set, dictionary\n",
    "#List - store any kinds of data (it can bhave as Stack,Queue,List, Array etc based on usage)\n",
    "my_list = [1, 2, 3, 4, 5, 'Pranay', 3.14, True]\n",
    "#print donler methods of list\n",
    "print(\"Attributes and methods of the list:\", dir(my_list))\n",
    "#Print the list\n",
    "print(\"List:\", my_list)\n",
    "#append/add a new element to the list\n",
    "my_list.append(6)   \n",
    "#Print the updated list\n",
    "print(\"Updated List:\", my_list) \n",
    "#pop/remove the last element from the list\n",
    "my_list.pop()\n",
    "#Print the list after popping the last element\n",
    "print(\"List after popping the last element:\", my_list)\n",
    "\n",
    "\n",
    "#Set\n",
    "my_set = {1, 2, 3, 4, 5, \"SetTest\"}\n",
    "#Print the set\n",
    "print(\"Set:\", my_set)\n",
    "#Dictionary\n",
    "my_dict = {'name': 'Alice', 'age': 30, 'city': 'New York'}\n",
    "#Print the dictionary   \n",
    "print(\"Dictionary:\", my_dict)\n",
    "\n",
    "#Immutable data structures\n",
    "\n"
   ]
  },
  {
   "cell_type": "code",
   "execution_count": null,
   "id": "38a4338a",
   "metadata": {},
   "outputs": [],
   "source": []
  },
  {
   "cell_type": "code",
   "execution_count": null,
   "id": "abad6c31",
   "metadata": {},
   "outputs": [
    {
     "name": "stdout",
     "output_type": "stream",
     "text": [
      "List after extending with string_list: [1, 2, 3, 4, 5, 'Pranay', 3.14, True, 'apple', 'banana', 'cherry']\n"
     ]
    }
   ],
   "source": [
    "#create list with string values \n",
    "my_list = [1, 2, 3, 4, 5, 'Pranay', 3.14, True]\n",
    "string_list = [\"apple\", \"banana\", \"cherry\"]\n",
    "#append this list to another list my_list\n",
    "my_list.extend(string_list) \n",
    "#print  \n",
    "print(\"List after extending with string_list:\", my_list)\n",
    "#modify the first element of my_list\n",
    "my_list[0] = 'Modified'\n",
    "#Print the modified list\n",
    "print(\"List after modifying the first element:\", my_list)"
   ]
  },
  {
   "cell_type": "code",
   "execution_count": null,
   "id": "13fd500d",
   "metadata": {},
   "outputs": [],
   "source": [
    "#Tuple - immutable data structure , can create with () or comma separated values\n",
    "#example of tuple with different data types\n",
    "my_tuple = (1, 2.5, 'Hello', True)\n",
    "#Print the tuple\n",
    "print(\"Tuple:\", my_tuple)"
   ]
  },
  {
   "cell_type": "code",
   "execution_count": 14,
   "id": "ad705311",
   "metadata": {},
   "outputs": [
    {
     "name": "stdout",
     "output_type": "stream",
     "text": [
      "Dictionary: {'name': 'Pranay', 'age': 30, 'city': 'Pune'}\n",
      "Accessing dictionary values:\n",
      "Name: Pranay\n",
      "Age: 30\n"
     ]
    }
   ],
   "source": [
    "#Dictionary\n",
    "my_dict = {'name': 'Pranay', 'age': 30, 'city': 'Pune'}\n",
    "#Print the dictionary   \n",
    "print(\"Dictionary:\", my_dict)\n",
    "#Accessing dictionary values\n",
    "print(\"Accessing dictionary values:\")   \n",
    "print(f\"Name: {my_dict['name']}\")\n",
    "print(f\"Age: {my_dict['age']}\")"
   ]
  },
  {
   "cell_type": "code",
   "execution_count": 17,
   "id": "44c3cf42",
   "metadata": {},
   "outputs": [
    {
     "name": "stdout",
     "output_type": "stream",
     "text": [
      "Value 'Pranay' found in my_list.\n"
     ]
    }
   ],
   "source": [
    "#CONTROL STRUCTURES\n",
    "#Conditional statements\n",
    "#find value in my_list  \n",
    "value_to_find = 'Pranay'\n",
    "if value_to_find in my_list:\n",
    "    print(f\"Value '{value_to_find}' found in my_list.\")\n",
    "elif value_to_find in my_set:\n",
    "    print(f\"Value '{value_to_find}' found in my_set.\")\n",
    "else:\n",
    "    print(f\"Value '{value_to_find}' not found in my_list.\")"
   ]
  },
  {
   "cell_type": "code",
   "execution_count": 23,
   "id": "bba67315",
   "metadata": {},
   "outputs": [
    {
     "name": "stdout",
     "output_type": "stream",
     "text": [
      "Writing greatest_of_three.py\n"
     ]
    }
   ],
   "source": [
    "%%writefile greatest_of_three.py\n",
    "#greatest_of_three.py\n",
    "\n",
    "#ctonrol structures in python\n",
    "#Conditional statements\n",
    "#Find greatest of three numbers taking input from user\n",
    "num1 = int(input(\"Enter first number: \"))   \n",
    "num2 = int(input(\"Enter second number: \"))\n",
    "num3 = int(input(\"Enter third number: \"))\n",
    "\n",
    "if num1 >= num2 and num1 >= num3:\n",
    "    #print the greatest number\n",
    "    print(f\"The greatest number is: {num1}\")\n",
    "elif num2 >= num1 and num2 >= num3:\n",
    "    #print the greatest number\n",
    "    print(f\"The greatest number is: {num2}\")\n",
    "else:\n",
    "    #print the greatest number\n",
    "    print(f\"The greatest number is: {num3}\")"
   ]
  },
  {
   "cell_type": "code",
   "execution_count": null,
   "id": "d836e652",
   "metadata": {},
   "outputs": [],
   "source": []
  }
 ],
 "metadata": {
  "kernelspec": {
   "display_name": ".venv",
   "language": "python",
   "name": "python3"
  },
  "language_info": {
   "codemirror_mode": {
    "name": "ipython",
    "version": 3
   },
   "file_extension": ".py",
   "mimetype": "text/x-python",
   "name": "python",
   "nbconvert_exporter": "python",
   "pygments_lexer": "ipython3",
   "version": "3.13.3"
  }
 },
 "nbformat": 4,
 "nbformat_minor": 5
}
