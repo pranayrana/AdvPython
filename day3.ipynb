{
 "cells": [
  {
   "cell_type": "markdown",
   "id": "90810cb0",
   "metadata": {},
   "source": [
    "SOLID Principles, Mixins\n",
    "- Design Patterns: Singleton, Factory, Strategy, Observer\n",
    "- Hands-On Lab: Build modular plugin architecture\n",
    "- Bonus: Authentication flow using OAuth and Azure AD\n",
    "\n",
    "Advanced Python Concepts\n",
    "- Decorators: Basics, Chaining, Real Use Cases\n",
    "- Context Managers: Built-in and Custom using __enter__/__exit__\n",
    "- Generators & Coroutines: yield, send, generator pipelines\n",
    "- Metaclasses: Basics and Framework Applications\n",
    "- Hands-On Lab: Create a logger using decorators and context managers"
   ]
  },
  {
   "cell_type": "markdown",
   "id": "26fa78fb",
   "metadata": {},
   "source": [
    "Decorator Example:\n",
    "```python\n",
    "\n",
    "It is AOP = Aspect-Oriented Programming, its similar to Attributes in C# or Annotations in Java\n",
    "\n",
    "Function takes other function as an argument"
   ]
  },
  {
   "cell_type": "code",
   "execution_count": 9,
   "id": "11f8ba5c",
   "metadata": {},
   "outputs": [
    {
     "name": "stdout",
     "output_type": "stream",
     "text": [
      "Calling function 'helloWord' with arguments: () and keyword arguments: {}\n",
      "Hw called\n",
      "Function 'helloWord' returned: Hello World!\n",
      "Calling function 'add' with arguments: (3, 5) and keyword arguments: {'extra_param': 'example', 'another_param': 42}\n",
      "Addition called\n",
      "Function 'add' returned: 8\n"
     ]
    },
    {
     "data": {
      "text/plain": [
       "8"
      ]
     },
     "execution_count": 9,
     "metadata": {},
     "output_type": "execute_result"
    }
   ],
   "source": [
    "#loggin decorator in python\n",
    "def logging_decorator(func):\n",
    "    def wrapper(*args, **kwargs):\n",
    "        print(f\"Calling function '{func.__name__}' with arguments: {args} and keyword arguments: {kwargs}\")\n",
    "        result = func(*args, **kwargs)\n",
    "        print(f\"Function '{func.__name__}' returned: {result}\")\n",
    "        return result\n",
    "    return wrapper\n",
    "\n",
    "@logging_decorator\n",
    "def add(a, b, **kwargs):\n",
    "    print(f\"Addition called\")\n",
    "    return a + b\n",
    "\n",
    "@logging_decorator\n",
    "def helloWord():\n",
    "    print(f\"Hw called\")\n",
    "    return \"Hello World!\"\n",
    "\n",
    "\n",
    "helloWord()\n",
    "\n",
    "\n",
    "add(3, 5, extra_param=\"example\", another_param=42)"
   ]
  },
  {
   "cell_type": "markdown",
   "id": "cfaabfb5",
   "metadata": {},
   "source": [
    "Validation Decorator Example:\n",
    "```python"
   ]
  },
  {
   "cell_type": "code",
   "execution_count": null,
   "id": "8894f4dc",
   "metadata": {},
   "outputs": [
    {
     "name": "stdout",
     "output_type": "stream",
     "text": [
      "Calling function 'wrapper' with arguments: (3, 5) and keyword arguments: {}\n",
      "Multiplication called\n",
      "Multiplication result: 15\n",
      "Function 'wrapper' returned: 15\n"
     ]
    },
    {
     "data": {
      "text/plain": [
       "15"
      ]
     },
     "execution_count": 25,
     "metadata": {},
     "output_type": "execute_result"
    }
   ],
   "source": [
    "#Validation decorator in python\n",
    "def validation_decorator(func):\n",
    "    def wrapper(*args, **kwargs):\n",
    "        #Tuple comprehension to validate arguments of function\n",
    "        if any(not isinstance(x, (int or float)) for x in args):\n",
    "            raise ValueError(\"All arguments must be numbers.\")\n",
    "        \n",
    "        if any(x == 0 for x in args if isinstance(x, (int or float))):\n",
    "            raise ValueError(\"All arguments must be numbers greater than zero.\")\n",
    "        return func(*args, **kwargs)\n",
    "    return wrapper\n",
    "\n",
    "@logging_decorator\n",
    "@validation_decorator\n",
    "def multiply(a, b):\n",
    "    print(f\"Multiplication called  inside multiply function\")\n",
    "    val= a * b\n",
    "    print(f\"Multiplication result: {val}\")\n",
    "    return val\n",
    "\n",
    "multiply(3, 5)  # This will work\n",
    "\n",
    "# try:\n",
    "#     multiply(\"\", 5)  # This will raise a ValueError\n",
    "# except ValueError as e:\n",
    "#     print(f\"Error: {e}\")"
   ]
  },
  {
   "cell_type": "markdown",
   "id": "fff7bdfb",
   "metadata": {},
   "source": [
    "Context Manager Python  = using statement in C#\n",
    "```python\n",
    "\n",
    "You can create your own context manager using __enter__ and __exit__ methods\n"
   ]
  },
  {
   "cell_type": "code",
   "execution_count": null,
   "id": "19501425",
   "metadata": {},
   "outputs": [
    {
     "name": "stdout",
     "output_type": "stream",
     "text": [
      "File content: First line in the file\n",
      "written file\n"
     ]
    }
   ],
   "source": [
    "#file handling creating and adding line of text \n",
    "with open(\"abc.txt\",\"a\") as file:\n",
    "    file.write('First line in the file')\n",
    "\n",
    "with open(\"abc.txt\",\"r\") as file:\n",
    "    lines = file.read()\n",
    "    print(f\"File content: {lines}\")\n",
    "\n",
    "print(f\"written file\")"
   ]
  },
  {
   "cell_type": "code",
   "execution_count": 29,
   "id": "97dbc3d9",
   "metadata": {},
   "outputs": [
    {
     "name": "stdout",
     "output_type": "stream",
     "text": [
      "Writing my_context_manager.py\n"
     ]
    }
   ],
   "source": [
    "%%writefile my_context_manager.py\n",
    "#create my own custom context manager \n",
    "class MyContextManager:\n",
    "    def __enter__(self):\n",
    "        print(\"Entering the context\")\n",
    "        return self\n",
    "\n",
    "    def __exit__(self, exc_type, exc_value, traceback):\n",
    "        print(\"Exiting the context\")\n",
    "        if exc_type is not None:\n",
    "            print(f\"An exception occurred: {exc_value}\")\n",
    "\n",
    "    def do_something(self):\n",
    "        print(\"Doing something inside the context manager\")\n"
   ]
  },
  {
   "cell_type": "code",
   "execution_count": null,
   "id": "be84ba5e",
   "metadata": {},
   "outputs": [
    {
     "name": "stdout",
     "output_type": "stream",
     "text": [
      "Entering the context\n",
      "Doing something inside the context manager\n",
      "Exiting the context\n"
     ]
    }
   ],
   "source": [
    "from my_context_manager import MyContextManager\n",
    "\n",
    "with MyContextManager() as manager:\n",
    "    manager.do_something()\n",
    "    # Uncomment the next line to see exception handling in action\n",
    "    # raise ValueError(\"An error occurred inside the context manager\")"
   ]
  },
  {
   "cell_type": "code",
   "execution_count": 33,
   "id": "e1a25f9a",
   "metadata": {},
   "outputs": [
    {
     "name": "stdout",
     "output_type": "stream",
     "text": [
      "Entering the context\n",
      "An exception occurred: 'NoneType' object has no attribute 'do_something'\n",
      "Exiting the context\n"
     ]
    }
   ],
   "source": [
    "from contextlib import contextmanager   \n",
    "\n",
    "@contextmanager\n",
    "def my_context_manager():\n",
    "    print(\"Entering the context\")\n",
    "    try:\n",
    "        yield\n",
    "    except Exception as e:\n",
    "        print(f\"An exception occurred: {e}\")\n",
    "    finally:\n",
    "        print(\"Exiting the context\")\n",
    "\n",
    "with my_context_manager() as cm:\n",
    "    cm.do_something()"
   ]
  },
  {
   "cell_type": "markdown",
   "id": "caade7d6",
   "metadata": {},
   "source": [
    "Generator in python created using yield keyword, same is there in C#"
   ]
  },
  {
   "cell_type": "code",
   "execution_count": null,
   "id": "ad86d476",
   "metadata": {},
   "outputs": [
    {
     "name": "stdout",
     "output_type": "stream",
     "text": [
      "Generator started\n",
      "1\n",
      "Generator resumed\n",
      "2\n",
      "Generator finished\n",
      "Generator has no more items\n",
      "Generator has been exhausted\n",
      "Generator started\n",
      "Yielded value: 1\n",
      "Generator resumed\n",
      "Yielded value: 2\n",
      "Generator finished\n"
     ]
    }
   ],
   "source": [
    "#simple generator function\n",
    "def my_generator():\n",
    "    print(\"Generator started\")\n",
    "    yield 1\n",
    "    print(\"Generator resumed\")\n",
    "    yield 2\n",
    "    print(\"Generator finished\")\n",
    "\n",
    "# calling the generator manually    \n",
    "g=my_generator() \n",
    "\n",
    "print(g.__next__())  # Output: 1\n",
    "print(g.__next__())  # Output: 2\n",
    "try:\n",
    "    print(g.__next__())  # Raises StopIteration exception\n",
    "except StopIteration:\n",
    "    print(\"Generator has no more items\")\n",
    "finally:\n",
    "    print(\"Generator has been exhausted\")   \n",
    "\n",
    "\n",
    "# Using the generator in a loop\n",
    "for value in my_generator():\n",
    "    print(f\"Yielded value: {value}\")\n",
    "    "
   ]
  },
  {
   "cell_type": "markdown",
   "id": "62a49e85",
   "metadata": {},
   "source": [
    "Meta classes in Python are classes of classes, they define how classes behave\n",
    "```python\n",
    "\n",
    "It help to create APIs, ORM, and other frameworks\n",
    "\n",
    "It help to create custom class creation logic\n",
    "\n",
    "\n",
    "It help to enforce rules on class creation, like validation or modification of attributes"
   ]
  },
  {
   "cell_type": "code",
   "execution_count": 46,
   "id": "9f6991aa",
   "metadata": {},
   "outputs": [
    {
     "name": "stdout",
     "output_type": "stream",
     "text": [
      "Creating class MyClass with MyMeta\n",
      "Value: 42\n"
     ]
    }
   ],
   "source": [
    "#Define metaclass\n",
    "class MyMeta(type):\n",
    "    def __new__(cls, name, bases, attrs):\n",
    "        print(f\"Creating class {name} with MyMeta\")\n",
    "        return super().__new__(cls, name, bases, attrs)\n",
    "    \n",
    "class MyClass(metaclass=MyMeta):\n",
    "    def __init__(self, value):\n",
    "        self.value = value\n",
    "\n",
    "    def display(self):\n",
    "        print(f\"Value: {self.value}\")\n",
    "\n",
    "obj = MyClass(42)\n",
    "obj.display()  # Output: Value: 42"
   ]
  },
  {
   "cell_type": "code",
   "execution_count": 1,
   "id": "20b5f184",
   "metadata": {},
   "outputs": [
    {
     "name": "stdout",
     "output_type": "stream",
     "text": [
      "Creating class BankAccount with BankMeta\n",
      "Account Number: 123456, Balance: 1000, Table Name: My Bank\n",
      "Transaction logged for BankAccount\n",
      "Deposited 500. New balance: 1500\n",
      "Transaction logged for BankAccount\n",
      "Withdrew 20. New balance: 1480\n"
     ]
    }
   ],
   "source": [
    "class BankMeta(type):\n",
    "    def __new__(cls, name, bases, attrs):\n",
    "        print(f\"Creating class {name} with BankMeta\")\n",
    "\n",
    "        newclass = super().__new__(cls, name, bases, attrs)\n",
    "\n",
    "        if not hasattr(newclass, 'deposit') or not hasattr(newclass, 'withdraw'):\n",
    "            raise ValueError(\"Class must have a deposit and withdraw method\")\n",
    "        \n",
    "        def log_transaction(self):\n",
    "            print(f\"Transaction logged for {newclass.__name__}\")\n",
    "\n",
    "        def amount_validator(func):\n",
    "            def wrapper(self, amount):\n",
    "                if amount <= 0:\n",
    "                    raise ValueError(\"Amount must be greater than zero.\")\n",
    "                return func(self, amount)\n",
    "            return wrapper\n",
    "\n",
    "        # Adding the log_transaction method to the new class\n",
    "        setattr(newclass, 'log_transaction', log_transaction)\n",
    "\n",
    "        # Wrap deposit and withdraw with amount_validator\n",
    "        setattr(newclass, 'deposit', amount_validator(getattr(newclass, 'deposit')))\n",
    "        setattr(newclass, 'withdraw', amount_validator(getattr(newclass, 'withdraw')))\n",
    "\n",
    "\n",
    "        # Adding a class variable to the new class\n",
    "        setattr(newclass, 'table_name', \"My Bank\")\n",
    "\n",
    "        return newclass\n",
    "\n",
    "\n",
    "\n",
    "class BankAccount(metaclass=BankMeta):\n",
    "    def __init__(self, account_number, balance):\n",
    "        self.account_number = account_number\n",
    "        self.balance = balance\n",
    "    \n",
    "    def deposit(self, amount):\n",
    "        self.balance += amount\n",
    "        self.log_transaction()\n",
    "        print(f\"Deposited {amount}. New balance: {self.balance}\")\n",
    "\n",
    "    def withdraw(self, amount): \n",
    "        if amount > self.balance:\n",
    "            raise ValueError(\"Insufficient funds for withdrawal.\")\n",
    "        self.balance -= amount\n",
    "        self.log_transaction()\n",
    "        print(f\"Withdrew {amount}. New balance: {self.balance}\")    \n",
    "\n",
    "    def display(self):\n",
    "        print(f\"Account Number: {self.account_number}, Balance: {self.balance}, Table Name: {self.table_name}\")\n",
    "\n",
    "\n",
    "obj = BankAccount(\"123456\", 1000)\n",
    "obj.display()  # Output: Account Number: 123456, Balance: 1000, Table Name: My Bank\n",
    "obj.deposit(500)  # Output: Deposited 500. New balance: 1500\n",
    "obj.withdraw(20)  "
   ]
  },
  {
   "cell_type": "code",
   "execution_count": null,
   "id": "5500ecc7",
   "metadata": {},
   "outputs": [],
   "source": []
  }
 ],
 "metadata": {
  "kernelspec": {
   "display_name": ".venv",
   "language": "python",
   "name": "python3"
  },
  "language_info": {
   "codemirror_mode": {
    "name": "ipython",
    "version": 3
   },
   "file_extension": ".py",
   "mimetype": "text/x-python",
   "name": "python",
   "nbconvert_exporter": "python",
   "pygments_lexer": "ipython3",
   "version": "3.13.3"
  }
 },
 "nbformat": 4,
 "nbformat_minor": 5
}
