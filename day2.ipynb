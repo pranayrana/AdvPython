{
 "cells": [
  {
   "cell_type": "markdown",
   "id": "a55b201b",
   "metadata": {},
   "source": [
    "In Python every thing is object , dir() to get details method of the object \n",
    "\n",
    "Help(functioname)- can help to get detail of function \n",
    "\n",
    "Python is modular language \n",
    "\n",
    "Function \n",
    "def\n",
    "*arg : variable \n",
    "**kwarg : key word argument \n",
    "\n",
    "2. Modules in Python \n",
    "\n",
    "3. Lambda functions \n",
    "    filter \n",
    "    map \n",
    "\n",
    "4. Comprehension / query list , dictionary "
   ]
  },
  {
   "cell_type": "code",
   "execution_count": 53,
   "id": "666f7e0b",
   "metadata": {},
   "outputs": [
    {
     "name": "stdout",
     "output_type": "stream",
     "text": [
      "welcome to new function: Pranay\n",
      "welcome to new function: Pranay\n",
      "Docuemnt of Function: print helloWorld\n"
     ]
    }
   ],
   "source": [
    "\n",
    "def helloWorld(name):\n",
    "    '''Docuemnt of Function: print helloWorld'''\n",
    "    print(\"welcome to new function:\", name)\n",
    "\n",
    "helloWorld(\"Pranay\")\n",
    "\n",
    "helloWorldFunction = helloWorld\n",
    "\n",
    "#dir(helloWorldFunction)\n",
    "helloWorldFunction(\"Pranay\")\n",
    "\n",
    "print(helloWorldFunction.__doc__) #dunler function docstring\n"
   ]
  },
  {
   "cell_type": "code",
   "execution_count": null,
   "id": "e2b5a540",
   "metadata": {},
   "outputs": [
    {
     "name": "stdout",
     "output_type": "stream",
     "text": [
      "Writing calculator_mod.py\n"
     ]
    }
   ],
   "source": [
    "%%writefile calculator_mod.py\n",
    "#!/usr/bin/env python3\n",
    "\n",
    "\"\"\"Calculator Module\n",
    "This module provides basic arithmetic operations such as addition, subtraction, \n",
    "multiplication, and division.\n",
    "\"\"\"\n",
    "#Design Calculator Module which will have functions for add, sub, mul, div\n",
    "def add(num1, num2):\n",
    "    '''Docuemnt of Function: add two numbers'''\n",
    "    print(\"Adding two numbers:\", num1, num2)\n",
    "    return  int(num1) + int(num2)\n",
    "\n",
    "def sub(num1, num2):\n",
    "    '''Docuemnt of Function: sub two numbers'''\n",
    "    print(\"Subtracting two numbers:\", num1, num2)\n",
    "    return int(num1) - int(num2)\n",
    "\n",
    "def mul(num1, num2):\n",
    "    '''Docuemnt of Function: multiply two numbers'''\n",
    "    print(\"Multiplying two numbers:\", num1, num2)\n",
    "    return int(num1) * int(num2)\n",
    "\n",
    "def div(num1, num2):\n",
    "    '''Docuemnt of Function: divide two numbers'''\n",
    "    print(\"Dividing two numbers:\", num1, num2)\n",
    "    if int(num2) == 0:\n",
    "        return \"Division by zero is not allowed\"\n",
    "    return int(num1) / int(num2)"
   ]
  },
  {
   "cell_type": "markdown",
   "id": "8da1da67",
   "metadata": {},
   "source": [
    "Pychase will get created when you import module "
   ]
  },
  {
   "cell_type": "code",
   "execution_count": null,
   "id": "4c36126a",
   "metadata": {},
   "outputs": [
    {
     "name": "stdout",
     "output_type": "stream",
     "text": [
      "Adding two numbers: 4 2\n",
      "6\n",
      "Subtracting two numbers: 4 2\n",
      "2\n",
      "Help on module calculator_mod:\n",
      "\n",
      "NAME\n",
      "    calculator_mod\n",
      "\n",
      "DESCRIPTION\n",
      "    Calculator Module\n",
      "    This module provides basic arithmetic operations such as addition, subtraction,\n",
      "    multiplication, and division.\n",
      "\n",
      "FUNCTIONS\n",
      "    add(num1, num2)\n",
      "        Docuemnt of Function: add two numbers\n",
      "\n",
      "    div(num1, num2)\n",
      "        Docuemnt of Function: divide two numbers\n",
      "\n",
      "    mul(num1, num2)\n",
      "        Docuemnt of Function: multiply two numbers\n",
      "\n",
      "    sub(num1, num2)\n",
      "        Docuemnt of Function: sub two numbers\n",
      "\n",
      "FILE\n",
      "    c:\\users\\pranay.a.rana\\dev\\advpython\\calculator_mod.py\n",
      "\n",
      "\n"
     ]
    }
   ],
   "source": [
    "import calculator_mod \n",
    "import calculator_mod as calc\n",
    "\n",
    "num1 = input(\"Enter first number: \")\n",
    "num2 = input(\"Enter second number: \")\n",
    "\n",
    "print(calc.add(num1, num2))\n",
    "print(calc.sub(num1, num2))\n",
    "\n",
    "help(calculator_mod)"
   ]
  },
  {
   "cell_type": "code",
   "execution_count": null,
   "id": "bccae233",
   "metadata": {},
   "outputs": [
    {
     "name": "stdout",
     "output_type": "stream",
     "text": [
      "Adding two numbers: 4 2\n",
      "6\n",
      "Subtracting two numbers: 4 2\n",
      "2\n"
     ]
    }
   ],
   "source": [
    "from calculator_mod import add, sub\n",
    "\n",
    "num1 = 4\n",
    "num2 = 2\n",
    "\n",
    "print(add(num1, num2))\n",
    "print(sub(num1, num2))"
   ]
  },
  {
   "cell_type": "markdown",
   "id": "94fa5bcb",
   "metadata": {},
   "source": [
    "pip install to install module not present "
   ]
  },
  {
   "cell_type": "markdown",
   "id": "97cefa09",
   "metadata": {},
   "source": [
    "Function with Variable agrument\n",
    "*arg - for variable argument , * is import "
   ]
  },
  {
   "cell_type": "code",
   "execution_count": 30,
   "id": "070320d5",
   "metadata": {},
   "outputs": [
    {
     "name": "stdout",
     "output_type": "stream",
     "text": [
      "Adding numbers: ()\n",
      "No numbers provided to add.\n",
      "0\n",
      "Adding numbers: (1, 2, 3, 4, 5)\n",
      "15\n"
     ]
    }
   ],
   "source": [
    "#function with variable number of arguments\n",
    "def add_numbers(*args):\n",
    "    '''Docuemnt of Function: add variable number of arguments'''\n",
    "    print(\"Adding numbers:\", args)\n",
    "    if not args:\n",
    "        print(\"No numbers provided to add.\")\n",
    "        return 0\n",
    "    total = 0\n",
    "    for num in args:\n",
    "        total += num\n",
    "    return total\n",
    "print(add_numbers())\n",
    "print(add_numbers(1, 2, 3, 4, 5))  # Output: 15\n"
   ]
  },
  {
   "cell_type": "code",
   "execution_count": 31,
   "id": "4e9294bf",
   "metadata": {},
   "outputs": [
    {
     "name": "stdout",
     "output_type": "stream",
     "text": [
      "Multiplying numbers: ()\n",
      "No numbers provided to multiply.\n",
      "1\n",
      "Multiplying numbers: (1, 2, 3, 4, 5)\n",
      "120\n"
     ]
    }
   ],
   "source": [
    "#function with variable number of arguments , to multiply numbers\n",
    "def multiply_numbers(*args):\n",
    "    '''Docuemnt of Function: multiply variable number of arguments'''\n",
    "    print(\"Multiplying numbers:\", args)\n",
    "    if not args:\n",
    "        print(\"No numbers provided to multiply.\")\n",
    "        return 1\n",
    "    total = 1\n",
    "    for num in args:\n",
    "        total *= num\n",
    "    return total\n",
    "\n",
    "print(multiply_numbers())\n",
    "print(multiply_numbers(1, 2, 3, 4, 5))  # Output: 120"
   ]
  },
  {
   "cell_type": "markdown",
   "id": "e2d3e3d2",
   "metadata": {},
   "source": [
    "Function with Keyword argument "
   ]
  },
  {
   "cell_type": "code",
   "execution_count": null,
   "id": "f221d3ee",
   "metadata": {},
   "outputs": [
    {
     "name": "stdout",
     "output_type": "stream",
     "text": [
      "Variable arguments: (1, 2, 3)\n",
      "Named arguments: {'name': 'Pranay', 'age': 40}\n",
      "Name: Pranay\n",
      "Age: 40\n",
      "Variable arguments: (1, 2, 3)\n",
      "Named arguments: {'user': 'Pranay', 'userage': 40}\n"
     ]
    }
   ],
   "source": [
    "def variableAndnamedArgment(*var_args, **named_agrs):\n",
    "    print(\"Variable arguments:\", var_args)\n",
    "    #below returns a dictionary of named arguments\n",
    "    print(\"Named arguments:\", named_agrs)\n",
    "\n",
    "variableAndnamedArgment(1, 2, 3, name=\"Pranay\", age=40)\n",
    "\n",
    "\n",
    "def mixedArgFunction(name, age=30, *var_args, **named_agrs):\n",
    "    print(\"Name:\", name)\n",
    "    print(\"Age:\", age)\n",
    "    print(\"Variable arguments:\", var_args)\n",
    "    print(\"Named arguments:\", named_agrs)\n",
    "\n",
    "\n",
    "mixedArgFunction(\"Pranay\", 40, 1, 2, 3, user=\"Pranay\", userage=40)\n",
    "\n"
   ]
  },
  {
   "cell_type": "markdown",
   "id": "4e4f03c9",
   "metadata": {},
   "source": [
    "Lambda function - anonymous function \n",
    "help(lambda)"
   ]
  },
  {
   "cell_type": "code",
   "execution_count": null,
   "id": "6c3be15c",
   "metadata": {},
   "outputs": [
    {
     "name": "stdout",
     "output_type": "stream",
     "text": [
      "Original sequence: [1, 2, 3, 4, 5, 6, 7, 8, 9, 10]\n",
      "Even numbers: [2, 4, 6, 8, 10]\n",
      "Employees with salary greater than 5000: [{'name': 'Alice', 'salary': 6000}, {'name': 'Charlie', 'salary': 7000}]\n"
     ]
    }
   ],
   "source": [
    "# filter even numbers from a list by using lambda function\n",
    "sequence = list(range(1, 11))\n",
    "print(\"Original sequence:\", sequence)\n",
    "\n",
    "even_numbers = list(filter(lambda x: x % 2 == 0, sequence))\n",
    "print(\"Even numbers:\", even_numbers)\n",
    "\n",
    "# filter emplyee salary greater than 5000\n",
    "employees = [\n",
    "    {\"name\": \"Alice\", \"salary\": 6000},\n",
    "    {\"name\": \"Bob\", \"salary\": 4000},\n",
    "    {\"name\": \"Charlie\", \"salary\": 7000},\n",
    "    {\"name\": \"David\", \"salary\": 3000}\n",
    "]\n",
    "high_salary_employees = list(filter(lambda emp: emp[\"salary\"] > 5000, employees))\n",
    "print(\"Employees with salary greater than 5000:\", high_salary_employees)\n"
   ]
  },
  {
   "cell_type": "markdown",
   "id": "c79a9115",
   "metadata": {},
   "source": [
    "Map function is used to perform 1 to 1 mapping between element of two list "
   ]
  },
  {
   "cell_type": "code",
   "execution_count": 42,
   "id": "3f04a457",
   "metadata": {},
   "outputs": [
    {
     "name": "stdout",
     "output_type": "stream",
     "text": [
      "Original sequence: [1, 2, 3, 4, 5, 6, 7, 8, 9, 10]\n",
      "Squared numbers: [1, 4, 9, 16, 25, 36, 49, 64, 81, 100]\n",
      "Mapped sum of two lists: [11, 22, 33, 44, 55]\n"
     ]
    }
   ],
   "source": [
    "# map function to square numbers in a list\n",
    "sequence = list(range(1, 11))\n",
    "print(\"Original sequence:\", sequence)\n",
    "squared_numbers = list(map(lambda x: x ** 2, sequence))\n",
    "print(\"Squared numbers:\", squared_numbers)\n",
    "\n",
    "# map element of two lists and add them\n",
    "list1 = [1, 2, 3, 4, 5]\n",
    "list2 = [10, 20, 30, 40, 50]\n",
    "mapped_sum = list(map(lambda x, y: x + y, list1, list2))\n",
    "print(\"Mapped sum of two lists:\", mapped_sum)"
   ]
  },
  {
   "cell_type": "markdown",
   "id": "67eb575f",
   "metadata": {},
   "source": [
    "List comprehension alternative to lambada function "
   ]
  },
  {
   "cell_type": "code",
   "execution_count": 40,
   "id": "9f6148e4",
   "metadata": {},
   "outputs": [
    {
     "name": "stdout",
     "output_type": "stream",
     "text": [
      "Original sequence: [1, 2, 3, 4, 5, 6, 7, 8, 9, 10]\n",
      "Even numbers using list comprehension: [2, 4, 6, 8, 10]\n"
     ]
    }
   ],
   "source": [
    "#list comprehension to filter even numbers\n",
    "sequence = list(range(1, 11))\n",
    "print(\"Original sequence:\", sequence)\n",
    "even_numbers_comprehension = [x for x in sequence if x % 2 == 0]\n",
    "print(\"Even numbers using list comprehension:\", even_numbers_comprehension)"
   ]
  },
  {
   "cell_type": "markdown",
   "id": "a9905cd4",
   "metadata": {},
   "source": [
    "Dictionary comperhension example "
   ]
  },
  {
   "cell_type": "code",
   "execution_count": 52,
   "id": "e0379786",
   "metadata": {},
   "outputs": [
    {
     "name": "stdout",
     "output_type": "stream",
     "text": [
      "Employees with salary greater than 5000 using dictionary comprehension: {'Alice': 6000}\n"
     ]
    }
   ],
   "source": [
    "#create dictionary\n",
    "employee_data = [(\"Alice\", 6000), (\"Bob\", 4000), (\"Charlie\", 7000), (\"David\", 3000)]\n",
    "\n",
    "# Dictionary comprehension to filter employees with salary greater than 5000\n",
    "high_salary_employees_dict = {name: salary for name,salary in employee_data if name == \"Alice\"}\n",
    "print(\"Employees with salary greater than 5000 using dictionary comprehension:\", high_salary_employees_dict)"
   ]
  }
 ],
 "metadata": {
  "kernelspec": {
   "display_name": ".venv",
   "language": "python",
   "name": "python3"
  },
  "language_info": {
   "codemirror_mode": {
    "name": "ipython",
    "version": 3
   },
   "file_extension": ".py",
   "mimetype": "text/x-python",
   "name": "python",
   "nbconvert_exporter": "python",
   "pygments_lexer": "ipython3",
   "version": "3.13.3"
  }
 },
 "nbformat": 4,
 "nbformat_minor": 5
}
