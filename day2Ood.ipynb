{
 "cells": [
  {
   "cell_type": "markdown",
   "id": "aca06ba9",
   "metadata": {},
   "source": [
    "ODD\n",
    "1. Class "
   ]
  },
  {
   "cell_type": "code",
   "execution_count": null,
   "id": "9575a76f",
   "metadata": {},
   "outputs": [
    {
     "name": "stdout",
     "output_type": "stream",
     "text": [
      "Help on bankApp in module __main__ object:\n",
      "\n",
      "class bankApp(builtins.object)\n",
      " |  Data descriptors defined here:\n",
      " |\n",
      " |  __dict__\n",
      " |      dictionary for instance variables\n",
      " |\n",
      " |  __weakref__\n",
      " |      list of weak references to the object\n",
      "\n",
      "None\n"
     ]
    }
   ],
   "source": [
    "#create class \n",
    "class BankApp:\n",
    "    '''BankApp class to manage bank operations''' \n",
    "    pass # it does nothing\n",
    "\n",
    "bankApp = BankApp() # create an instance of the class\n",
    "# print the type of the instance\n",
    "print(help(bankApp)) # <class '__main__.BankApp'>\n"
   ]
  },
  {
   "cell_type": "code",
   "execution_count": null,
   "id": "2e17d33f",
   "metadata": {},
   "outputs": [
    {
     "name": "stdout",
     "output_type": "stream",
     "text": [
      "Writing bank.py\n"
     ]
    }
   ],
   "source": [
    "%%writefile bank.py\n",
    "\n",
    "#create class \n",
    "class BankApp:\n",
    "    '''BankApp class to manage bank operations''' \n",
    "    \n",
    "    global global_var  # global variable\n",
    "    global_var= \"Baking Application\" \n",
    "    \n",
    "    ifsc = 0 # class variable, similar to static variable in C#\n",
    "    \n",
    "    #Constructor\n",
    "    def __init__(self,name,branch):\n",
    "        BankApp.ifsc += 1\n",
    "        '''Constructor to initialize the bank app'''\n",
    "        self.name = name # instance variable\n",
    "        self.branch = branch\n",
    "        self.ifsc = f\"TEST { BankApp.ifsc.__str__()}\"  \n",
    "\n",
    "    # Method to display the bank name\n",
    "    def getDetails(self):\n",
    "        '''Method to display information about the bank app'''\n",
    "        details = f\"Bank  Name: {self.name} Branch: {self.branch} IFSC: {self.ifsc}\"\n",
    "        return details\n",
    "\n",
    "\n"
   ]
  },
  {
   "cell_type": "code",
   "execution_count": null,
   "id": "b854810c",
   "metadata": {},
   "outputs": [
    {
     "name": "stdout",
     "output_type": "stream",
     "text": [
      "Baking Application\n",
      "Bank IFC code 0\n",
      "Bank  Name: TestBank Branch: ABC IFSC: TEST 1\n",
      "Bank  Name: TestBank2 Branch: XYZ IFSC: TEST 2\n",
      "Bank IFC code 2\n",
      "Bank  Name: TestBank Branch: ABC IFSC: TEST 3\n",
      "Bank  Name: TestBank2 Branch: XYZ IFSC: TEST 4\n"
     ]
    }
   ],
   "source": [
    "# import the class from the bank module\n",
    "from bank import BankApp \n",
    "\n",
    "#print class variable # 1#\n",
    "print(\"Bank IFC code\", BankApp.ifsc) \n",
    "\n",
    "# create an instance of the class\n",
    "bankApp = BankApp(\"TestBank\",\"ABC\") \n",
    "# print bank info, ex. accessing instance variable\n",
    "print(bankApp.getDetails())\n",
    "\n",
    "#create another instance of the class\n",
    "bankApp2 = BankApp(\"TestBank2\",\"XYZ\")\n",
    "# print bank info, ex. accessing instance variable\n",
    "print(bankApp2.getDetails())"
   ]
  },
  {
   "cell_type": "code",
   "execution_count": 28,
   "id": "d00c69f3",
   "metadata": {},
   "outputs": [
    {
     "name": "stdout",
     "output_type": "stream",
     "text": [
      "Customer Name: John Doe Branch: ABC Customer ID: C12345\n",
      "Customer Name: Jane Smith Branch: XYZ Customer ID: C67890\n"
     ]
    }
   ],
   "source": [
    "from bank import BankApp # import the class again to check if it is the same class\n",
    "\n",
    "class Customer(BankApp):\n",
    "    '''Customer class to manage customer operations'''\n",
    "    \n",
    "    def __init__(self, name, branch, customer_id):\n",
    "        super().__init__(name, branch)  # call the parent class constructor\n",
    "        self.customer_id = customer_id\n",
    "\n",
    "\n",
    "    def getCustomerDetails(self):\n",
    "        '''Method to display customer details'''\n",
    "        details = f\"Customer Name: {self.name} Branch: {self.branch} Customer ID: {self.customer_id}\"\n",
    "        return details\n",
    "\n",
    "\n",
    "customerOfAbc1 = Customer(\"John Doe\", \"ABC\", \"C12345\")\n",
    "# print customer details\n",
    "print(customerOfAbc1.getCustomerDetails())\n",
    "\n",
    "customerOfXyz1 = Customer(\"Jane Smith\", \"XYZ\", \"C67890\")\n",
    "# print customer details    \n",
    "print(customerOfXyz1.getCustomerDetails())"
   ]
  }
 ],
 "metadata": {
  "kernelspec": {
   "display_name": ".venv",
   "language": "python",
   "name": "python3"
  },
  "language_info": {
   "codemirror_mode": {
    "name": "ipython",
    "version": 3
   },
   "file_extension": ".py",
   "mimetype": "text/x-python",
   "name": "python",
   "nbconvert_exporter": "python",
   "pygments_lexer": "ipython3",
   "version": "3.13.3"
  }
 },
 "nbformat": 4,
 "nbformat_minor": 5
}
